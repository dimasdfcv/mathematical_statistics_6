{
 "cells": [
  {
   "cell_type": "markdown",
   "metadata": {},
   "source": [
    "## Задача 2. \n",
    "В результате 10 независимых измерений некоторой величины X, выполненных с одинаковой точностью, получены опытные данные: 6.9, 6.1, 6.2, 6.8, 7.5, 6.3, 6.4, 6.9, 6.7, 6.1  \n",
    "Предполагая, что результаты измерений подчинены нормальному закону распределения вероятностей, оценить истинное значение величины X при помощи доверительного интервала, покрывающего это значение с доверительной вероятностью 0,95.  \n",
    "  \n",
    "Так как дисперсия генеральной совокупности неизвестна, вычисляем ее по выборке, используя формулу для несмещенного стандартного отклонения.   \n",
    "  \n",
    "$\\displaystyle\\bar X\\pm t_{\\alpha/2}\\cdot\\frac{\\sigma}{\\sqrt{n}}$  \n",
    "\n",
    "\n",
    "Размер выборки: $n=10$  \n",
    "$\\alpha=0,05$   "
   ]
  },
  {
   "cell_type": "code",
   "execution_count": 8,
   "metadata": {},
   "outputs": [],
   "source": [
    "import numpy as np\n",
    "import scipy.stats as stats"
   ]
  },
  {
   "cell_type": "code",
   "execution_count": 9,
   "metadata": {},
   "outputs": [
    {
     "name": "stdout",
     "output_type": "stream",
     "text": [
      "Среднее арифметическое выборки: 6.59\n"
     ]
    }
   ],
   "source": [
    "arr = [6.9, 6.1, 6.2, 6.8, 7.5, 6.3, 6.4, 6.9, 6.7, 6.1]\n",
    "n = 10\n",
    "x = np.mean(arr)\n",
    "print(f'Среднее арифметическое выборки: {round(x, 4)}')"
   ]
  },
  {
   "cell_type": "code",
   "execution_count": 10,
   "metadata": {},
   "outputs": [
    {
     "name": "stdout",
     "output_type": "stream",
     "text": [
      "Среднее квадратическое отклонение по выборке: 0.4508\n"
     ]
    }
   ],
   "source": [
    "sigma = np.std(arr, ddof = 1)\n",
    "print(f'Среднее квадратическое отклонение по выборке: {round(sigma, 4)}')"
   ]
  },
  {
   "cell_type": "code",
   "execution_count": 11,
   "metadata": {},
   "outputs": [
    {
     "name": "stdout",
     "output_type": "stream",
     "text": [
      "Значение t-критерия для 0.95% доверительного интервала: 0.4508\n"
     ]
    }
   ],
   "source": [
    "alpha = 0.05\n",
    "za = stats.t.ppf(1 - alpha / 2, n - 1)\n",
    "print(f'Значение t-критерия для {1-alpha}% доверительного интервала: {round(sigma, 4)}')"
   ]
  },
  {
   "cell_type": "code",
   "execution_count": 12,
   "metadata": {},
   "outputs": [
    {
     "name": "stdout",
     "output_type": "stream",
     "text": [
      "Доверительный интервал: [6.2675; 6.9125]\n"
     ]
    }
   ],
   "source": [
    "l1 = x - za * sigma / n**0.5\n",
    "l2 = x + za * sigma / n**0.5\n",
    "print(f'Доверительный интервал: [{round(l1, 4)}; {round(l2, 4)}]')"
   ]
  }
 ],
 "metadata": {
  "kernelspec": {
   "display_name": "Python 3",
   "language": "python",
   "name": "python3"
  },
  "language_info": {
   "codemirror_mode": {
    "name": "ipython",
    "version": 3
   },
   "file_extension": ".py",
   "mimetype": "text/x-python",
   "name": "python",
   "nbconvert_exporter": "python",
   "pygments_lexer": "ipython3",
   "version": "3.11.6"
  }
 },
 "nbformat": 4,
 "nbformat_minor": 2
}
