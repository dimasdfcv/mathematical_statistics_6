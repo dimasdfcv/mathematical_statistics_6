{
 "cells": [
  {
   "cell_type": "markdown",
   "metadata": {},
   "source": [
    "## Задача 3.\n",
    "\n",
    "Рост дочерей 175, 167, 154, 174, 178, 148, 160, 167, 169, 170  \n",
    "Рост матерей  178, 165, 165, 173, 168, 155, 160, 164, 178, 175  \n",
    "Используя эти данные построить 95% доверительный интервал для разности среднего роста родителей и детей.\n",
    "\n",
    "Используем формулу интернациональная оценка для разности средних арифметических  \n",
    "\n",
    "$\\bar{X}_1 - \\bar{X}_2 \\pm t{\\frac{\\alpha}{2}} \\sqrt{\\frac{D_1}{n_1} + \\frac{D_2}{n_2}}$, где  \n",
    "\n",
    "$\\bar{X}_1$ - среднее арифметическое в группе 1  \n",
    "$\\bar{X}_2$ - среднее арифметическое в группе 2  \n",
    "$D_1$ - дисперсия в группе 1  \n",
    "$D_2$ - дисперсия в группе 2  \n",
    "$n_1$ - число элементов в группе 1  \n",
    "$n_2$ - число элементов в группе 2  "
   ]
  },
  {
   "cell_type": "code",
   "execution_count": 1,
   "metadata": {},
   "outputs": [],
   "source": [
    "import numpy as np\n",
    "import scipy.stats as stats"
   ]
  },
  {
   "cell_type": "code",
   "execution_count": 6,
   "metadata": {},
   "outputs": [
    {
     "name": "stdout",
     "output_type": "stream",
     "text": [
      "95% Доверительный интервал для разности среднего роста родителей и детей: [-6.2684; 10.0684]\n"
     ]
    }
   ],
   "source": [
    "arr1 = np.array([175, 167, 154, 174, 178, 148, 160, 167, 169, 170])\n",
    "arr2 = np.array([178, 165, 165, 173, 168, 155, 160, 164, 178, 175])\n",
    "n1 = len(arr1)\n",
    "n2 = len(arr2)\n",
    "X1 = np.mean(arr1)\n",
    "X2 = np.mean(arr2)\n",
    "alpha = 0.05 / 2\n",
    "\n",
    "delta = X2 - X1\n",
    "deltaS = np.sqrt(np.var(arr2, ddof=1) / n2 + np.var(arr1, ddof=1) / n1)\n",
    "t_critical = stats.t.ppf(alpha, n2 + n1 - 2)\n",
    "l1 = delta - t_critical * deltaS\n",
    "l2 = delta + t_critical * deltaS\n",
    "\n",
    "print(f'95% Доверительный интервал для разности среднего роста родителей и детей: [{round(l2, 4)}; {round(l1, 4)}]')"
   ]
  }
 ],
 "metadata": {
  "kernelspec": {
   "display_name": "Python 3",
   "language": "python",
   "name": "python3"
  },
  "language_info": {
   "codemirror_mode": {
    "name": "ipython",
    "version": 3
   },
   "file_extension": ".py",
   "mimetype": "text/x-python",
   "name": "python",
   "nbconvert_exporter": "python",
   "pygments_lexer": "ipython3",
   "version": "3.11.6"
  }
 },
 "nbformat": 4,
 "nbformat_minor": 2
}
