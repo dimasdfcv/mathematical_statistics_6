{
 "cells": [
  {
   "cell_type": "markdown",
   "metadata": {},
   "source": [
    "## Задача 1.\n",
    "Известно, что генеральная совокупность распределена нормально со средним квадратическим отклонением, равным 16. Найти доверительный интервал для оценки математического ожидания a с надежностью 0.95, если выборочная средняя M = 80, а объем выборки n = 256.\n",
    "\n",
    "Нам известны и среднее и дисперсия генеральной совокупности, соответственно для проверки гипотезы будем использовать $z$-критерий.  \n",
    "Формула нахождения доверительного интервала  \n",
    "  \n",
    "$\\bar X\\pm z_{\\alpha/2}\\cdot\\frac{\\sigma}{\\sqrt n}$   \n",
    "\n",
    "Размер выборки: $n=256$  \n",
    "Среднее значение выборки: $\\bar X=80$  \n",
    "Среднее квадратическое отклонение генеральной совокупности: $\\sigma=16$  \n",
    "Табличное значение $Z$-критерия для $95\\%$ доверительного интервала: $z_{\\alpha/2}=1,96$   "
   ]
  },
  {
   "cell_type": "code",
   "execution_count": 4,
   "metadata": {},
   "outputs": [
    {
     "name": "stdout",
     "output_type": "stream",
     "text": [
      "Доверительный интервал: [78.04; 81.96]\n"
     ]
    }
   ],
   "source": [
    "n = 256\n",
    "x = 80\n",
    "sigma = 16\n",
    "za = 1.96\n",
    "l1 = x - za * sigma / n**0.5\n",
    "l2 = x + za * sigma / n**0.5\n",
    "print(f'Доверительный интервал: [{round(l1, 4)}; {round(l2, 4)}]')"
   ]
  }
 ],
 "metadata": {
  "kernelspec": {
   "display_name": "Python 3",
   "language": "python",
   "name": "python3"
  },
  "language_info": {
   "codemirror_mode": {
    "name": "ipython",
    "version": 3
   },
   "file_extension": ".py",
   "mimetype": "text/x-python",
   "name": "python",
   "nbconvert_exporter": "python",
   "pygments_lexer": "ipython3",
   "version": "3.11.6"
  }
 },
 "nbformat": 4,
 "nbformat_minor": 2
}
